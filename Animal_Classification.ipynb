{
  "nbformat": 4,
  "nbformat_minor": 0,
  "metadata": {
    "colab": {
      "provenance": [],
      "gpuType": "T4"
    },
    "kernelspec": {
      "name": "python3",
      "display_name": "Python 3"
    },
    "language_info": {
      "name": "python"
    },
    "accelerator": "GPU"
  },
  "cells": [
    {
      "cell_type": "markdown",
      "source": [
        "## Implementing SVM to classify images of dogs and cats.\n",
        "1=dog and 0=cat"
      ],
      "metadata": {
        "id": "U3ovN5wbYG10"
      }
    },
    {
      "cell_type": "code",
      "source": [
        "import os\n",
        "# Create the .kaggle directory if it doesn't exist\n",
        "os.makedirs('/root/.kaggle', exist_ok=True)\n",
        "\n",
        "# Move the kaggle.json file to the .kaggle directory\n",
        "!mv kaggle.json /root/.kaggle/\n",
        "\n",
        "# Set the appropriate permissions\n",
        "!chmod 600 /root/.kaggle/kaggle.json"
      ],
      "metadata": {
        "colab": {
          "base_uri": "https://localhost:8080/"
        },
        "id": "fN5xg7X1uCh8",
        "outputId": "46cc6630-30b2-4f09-bc04-b4dc5a6726df"
      },
      "execution_count": 5,
      "outputs": [
        {
          "output_type": "stream",
          "name": "stdout",
          "text": [
            "mv: cannot stat 'kaggle.json': No such file or directory\n"
          ]
        }
      ]
    },
    {
      "cell_type": "code",
      "source": [
        "import zipfile\n",
        "import cv2\n",
        "from os import listdir # list directories\n",
        "import matplotlib.pyplot as plt\n",
        "import numpy as np\n",
        "import pandas as pd\n",
        "import tensorflow as tf\n",
        "from tensorflow.keras.models import Sequential\n",
        "from tensorflow.keras.layers import Dense,Flatten\n",
        "from tensorflow.keras.preprocessing.image import ImageDataGenerator\n",
        "from kaggle.api.kaggle_api_extended import KaggleApi\n",
        "\n",
        "# Initialize Kaggle API\n",
        "api = KaggleApi()\n",
        "api.authenticate()\n"
      ],
      "metadata": {
        "id": "eq5GPFznkOHU"
      },
      "execution_count": 6,
      "outputs": []
    },
    {
      "cell_type": "code",
      "source": [
        "# Define the paths\n",
        "train_zip_path = '/kaggle/working/train.zip'\n",
        "test_zip_path = '/kaggle/working/test1.zip'\n",
        "extracted_files_path = '/kaggle/working/'\n",
        "\n",
        "# Download the dataset\n",
        "api.competition_download_file('dogs-vs-cats', 'train.zip', path='/kaggle/working/')\n",
        "api.competition_download_file('dogs-vs-cats', 'test1.zip', path='/kaggle/working/')\n"
      ],
      "metadata": {
        "colab": {
          "base_uri": "https://localhost:8080/"
        },
        "id": "wXsMA8WJmofF",
        "outputId": "252c46c6-3960-46c9-a9c5-7403913e7388"
      },
      "execution_count": 7,
      "outputs": [
        {
          "output_type": "stream",
          "name": "stdout",
          "text": [
            "train.zip: Skipping, found more recently modified local copy (use --force to force download)\n",
            "test1.zip: Skipping, found more recently modified local copy (use --force to force download)\n"
          ]
        }
      ]
    },
    {
      "cell_type": "code",
      "source": [
        "# Extract train.zip\n",
        "with zipfile.ZipFile(train_zip_path, 'r') as zip_ref:\n",
        "    zip_ref.extractall(extracted_files_path)\n",
        "\n",
        "# Extract test1.zip (if needed)\n",
        "with zipfile.ZipFile(test_zip_path, 'r') as zip_ref:\n",
        "    zip_ref.extractall(extracted_files_path)\n",
        "\n",
        "# Verify the extraction\n",
        "print(\"Train and test data extracted successfully!\")"
      ],
      "metadata": {
        "colab": {
          "base_uri": "https://localhost:8080/"
        },
        "id": "r3GE7TGGmsBT",
        "outputId": "9f251e8e-ca96-455e-aead-73b54fee458d"
      },
      "execution_count": 8,
      "outputs": [
        {
          "output_type": "stream",
          "name": "stdout",
          "text": [
            "Train and test data extracted successfully!\n"
          ]
        }
      ]
    },
    {
      "cell_type": "code",
      "source": [
        "# Define the path to the extracted train data\n",
        "train_data_path = os.path.join(extracted_files_path, 'train')"
      ],
      "metadata": {
        "id": "p-CrQba4ubDK"
      },
      "execution_count": 9,
      "outputs": []
    },
    {
      "cell_type": "code",
      "source": [
        "# Load images and labels\n",
        "def load_images_from_folder(folder):\n",
        "    images = []\n",
        "    labels = []\n",
        "    for filename in os.listdir(folder):\n",
        "        label = filename.split('.')[0]  # 'dog' or 'cat'\n",
        "        img = cv2.imread(os.path.join(folder, filename))\n",
        "        if img is not None:\n",
        "            img = cv2.resize(img, (64, 64))  # Resize to a fixed size (e.g., 64x64)\n",
        "            images.append(img)\n",
        "            labels.append(label)\n",
        "    return images, labels\n",
        "\n",
        "images, labels = load_images_from_folder(train_data_path)"
      ],
      "metadata": {
        "id": "rqu3eZGMufy3"
      },
      "execution_count": 10,
      "outputs": []
    },
    {
      "cell_type": "code",
      "source": [
        "# Convert lists to numpy arrays\n",
        "images = np.array(images)\n",
        "labels = np.array(labels)"
      ],
      "metadata": {
        "id": "Zhta_rAjunGY"
      },
      "execution_count": 11,
      "outputs": []
    },
    {
      "cell_type": "code",
      "source": [
        "images.shape"
      ],
      "metadata": {
        "colab": {
          "base_uri": "https://localhost:8080/"
        },
        "id": "ZjcjLJJqvT6s",
        "outputId": "bc115217-aa42-48fd-c38c-2ef52aa705d5"
      },
      "execution_count": 11,
      "outputs": [
        {
          "output_type": "execute_result",
          "data": {
            "text/plain": [
              "(25000, 64, 64, 3)"
            ]
          },
          "metadata": {},
          "execution_count": 11
        }
      ]
    },
    {
      "cell_type": "code",
      "source": [
        "images"
      ],
      "metadata": {
        "colab": {
          "base_uri": "https://localhost:8080/"
        },
        "id": "fnOTpICUu_Cw",
        "outputId": "569d3f1a-4005-4a40-e4b3-a654e06c2810"
      },
      "execution_count": 12,
      "outputs": [
        {
          "output_type": "execute_result",
          "data": {
            "text/plain": [
              "array([[[[ 75,  77,  69],\n",
              "         [116, 109, 106],\n",
              "         [ 82,  77,  78],\n",
              "         ...,\n",
              "         [115,  85,  60],\n",
              "         [156, 130, 100],\n",
              "         [145, 107,  72]],\n",
              "\n",
              "        [[ 78,  85,  80],\n",
              "         [117, 113, 108],\n",
              "         [ 80,  79,  69],\n",
              "         ...,\n",
              "         [110,  83,  57],\n",
              "         [175, 147, 117],\n",
              "         [127,  90,  62]],\n",
              "\n",
              "        [[ 85, 100,  90],\n",
              "         [ 88,  89,  78],\n",
              "         [ 84,  86,  67],\n",
              "         ...,\n",
              "         [110,  83,  57],\n",
              "         [185, 156, 125],\n",
              "         [130,  96,  83]],\n",
              "\n",
              "        ...,\n",
              "\n",
              "        [[ 99, 111, 129],\n",
              "         [108, 120, 138],\n",
              "         [110, 122, 140],\n",
              "         ...,\n",
              "         [ 83,  92, 105],\n",
              "         [ 93, 102, 115],\n",
              "         [ 95, 104, 117]],\n",
              "\n",
              "        [[ 97, 107, 125],\n",
              "         [107, 117, 135],\n",
              "         [109, 119, 137],\n",
              "         ...,\n",
              "         [ 80,  93, 108],\n",
              "         [ 77,  90, 106],\n",
              "         [ 84,  97, 112]],\n",
              "\n",
              "        [[107, 114, 133],\n",
              "         [109, 116, 135],\n",
              "         [101, 108, 127],\n",
              "         ...,\n",
              "         [ 79,  92, 108],\n",
              "         [ 74,  87, 103],\n",
              "         [ 81,  94, 110]]],\n",
              "\n",
              "\n",
              "       [[[ 48,  52,  24],\n",
              "         [ 25,  24,  12],\n",
              "         [ 31,  31,  14],\n",
              "         ...,\n",
              "         [ 13,  22,  10],\n",
              "         [ 28,  33,  34],\n",
              "         [ 16,  29,  34]],\n",
              "\n",
              "        [[ 55,  58,  33],\n",
              "         [ 30,  28,  19],\n",
              "         [ 34,  30,  23],\n",
              "         ...,\n",
              "         [ 13,  15,  15],\n",
              "         [  8,  11,  17],\n",
              "         [  8,   9,  20]],\n",
              "\n",
              "        [[ 50,  57,  20],\n",
              "         [ 32,  34,  12],\n",
              "         [ 23,  21,  10],\n",
              "         ...,\n",
              "         [ 16,  18,  26],\n",
              "         [ 16,  34,  42],\n",
              "         [  9,  11,  23]],\n",
              "\n",
              "        ...,\n",
              "\n",
              "        [[ 42,  58,  64],\n",
              "         [ 47,  63,  69],\n",
              "         [ 44,  61,  70],\n",
              "         ...,\n",
              "         [174, 174, 168],\n",
              "         [181, 176, 176],\n",
              "         [ 52,  47,  46]],\n",
              "\n",
              "        [[ 33,  49,  55],\n",
              "         [ 36,  52,  58],\n",
              "         [ 30,  47,  56],\n",
              "         ...,\n",
              "         [170, 170, 164],\n",
              "         [180, 168, 168],\n",
              "         [135, 134, 133]],\n",
              "\n",
              "        [[ 35,  46,  56],\n",
              "         [ 29,  46,  55],\n",
              "         [ 33,  50,  62],\n",
              "         ...,\n",
              "         [169, 164, 156],\n",
              "         [168, 167, 159],\n",
              "         [180, 168, 163]]],\n",
              "\n",
              "\n",
              "       [[[ 84, 107, 109],\n",
              "         [ 75, 115, 104],\n",
              "         [ 84, 136, 116],\n",
              "         ...,\n",
              "         [ 73,  67,  86],\n",
              "         [120, 105, 121],\n",
              "         [195, 173, 179]],\n",
              "\n",
              "        [[ 77, 102, 100],\n",
              "         [ 68, 108,  93],\n",
              "         [ 84, 129, 110],\n",
              "         ...,\n",
              "         [ 72,  70,  82],\n",
              "         [ 72,  64,  76],\n",
              "         [122, 103, 126]],\n",
              "\n",
              "        [[ 88, 115, 110],\n",
              "         [ 69, 109,  92],\n",
              "         [ 52, 107,  86],\n",
              "         ...,\n",
              "         [ 65,  65,  78],\n",
              "         [ 64,  64,  76],\n",
              "         [ 73,  62,  78]],\n",
              "\n",
              "        ...,\n",
              "\n",
              "        [[155, 144, 157],\n",
              "         [156, 143, 157],\n",
              "         [153, 146, 153],\n",
              "         ...,\n",
              "         [150, 143, 156],\n",
              "         [148, 144, 155],\n",
              "         [143, 139, 150]],\n",
              "\n",
              "        [[154, 154, 155],\n",
              "         [158, 150, 151],\n",
              "         [156, 149, 156],\n",
              "         ...,\n",
              "         [149, 143, 154],\n",
              "         [150, 148, 154],\n",
              "         [144, 142, 148]],\n",
              "\n",
              "        [[164, 152, 159],\n",
              "         [157, 152, 153],\n",
              "         [155, 148, 155],\n",
              "         ...,\n",
              "         [169, 158, 166],\n",
              "         [133, 125, 132],\n",
              "         [145, 139, 151]]],\n",
              "\n",
              "\n",
              "       ...,\n",
              "\n",
              "\n",
              "       [[[ 72,  45, 255],\n",
              "         [ 75,  49, 255],\n",
              "         [ 65,  43, 255],\n",
              "         ...,\n",
              "         [ 58,  40, 255],\n",
              "         [ 57,  39, 254],\n",
              "         [ 56,  36, 253]],\n",
              "\n",
              "        [[ 72,  45, 255],\n",
              "         [ 73,  46, 255],\n",
              "         [ 66,  44, 255],\n",
              "         ...,\n",
              "         [ 58,  40, 255],\n",
              "         [ 56,  38, 253],\n",
              "         [ 55,  36, 253]],\n",
              "\n",
              "        [[ 70,  43, 253],\n",
              "         [ 73,  46, 255],\n",
              "         [ 64,  42, 254],\n",
              "         ...,\n",
              "         [ 58,  40, 255],\n",
              "         [ 58,  40, 255],\n",
              "         [ 56,  37, 254]],\n",
              "\n",
              "        ...,\n",
              "\n",
              "        [[ 44,  26, 239],\n",
              "         [ 46,  28, 241],\n",
              "         [ 50,  32, 247],\n",
              "         ...,\n",
              "         [ 50,  33, 244],\n",
              "         [ 31,  19, 215],\n",
              "         [ 44,  28, 235]],\n",
              "\n",
              "        [[ 44,  26, 239],\n",
              "         [ 44,  26, 239],\n",
              "         [ 48,  30, 245],\n",
              "         ...,\n",
              "         [ 46,  29, 240],\n",
              "         [ 43,  28, 233],\n",
              "         [ 38,  26, 224]],\n",
              "\n",
              "        [[ 43,  27, 234],\n",
              "         [ 45,  27, 240],\n",
              "         [ 47,  29, 242],\n",
              "         ...,\n",
              "         [ 46,  29, 240],\n",
              "         [ 43,  27, 234],\n",
              "         [ 36,  22, 223]]],\n",
              "\n",
              "\n",
              "       [[[ 49,  63,  77],\n",
              "         [ 55,  66,  72],\n",
              "         [ 58,  72,  71],\n",
              "         ...,\n",
              "         [ 62, 106, 119],\n",
              "         [ 57, 101, 114],\n",
              "         [ 60,  99, 113]],\n",
              "\n",
              "        [[ 51,  77,  89],\n",
              "         [ 56,  66,  72],\n",
              "         [ 39,  51,  51],\n",
              "         ...,\n",
              "         [ 65, 109, 122],\n",
              "         [ 61, 105, 118],\n",
              "         [ 59, 101, 114]],\n",
              "\n",
              "        [[ 49,  89,  98],\n",
              "         [ 24,  33,  39],\n",
              "         [ 28,  38,  38],\n",
              "         ...,\n",
              "         [ 64, 108, 121],\n",
              "         [ 59, 104, 116],\n",
              "         [ 57, 101, 114]],\n",
              "\n",
              "        ...,\n",
              "\n",
              "        [[142, 160, 173],\n",
              "         [128, 154, 163],\n",
              "         [149, 168, 172],\n",
              "         ...,\n",
              "         [119, 145, 159],\n",
              "         [126, 144, 152],\n",
              "         [ 49,  40,  28]],\n",
              "\n",
              "        [[134, 154, 166],\n",
              "         [145, 169, 181],\n",
              "         [141, 159, 167],\n",
              "         ...,\n",
              "         [125, 148, 159],\n",
              "         [131, 150, 158],\n",
              "         [ 85,  79,  74]],\n",
              "\n",
              "        [[146, 172, 184],\n",
              "         [147, 169, 181],\n",
              "         [139, 155, 171],\n",
              "         ...,\n",
              "         [126, 145, 153],\n",
              "         [118, 141, 151],\n",
              "         [121, 122, 122]]],\n",
              "\n",
              "\n",
              "       [[[ 39,  85, 107],\n",
              "         [ 40,  90, 112],\n",
              "         [ 42,  95, 116],\n",
              "         ...,\n",
              "         [  0,  19,  39],\n",
              "         [ 16,  29,  37],\n",
              "         [ 44,  57,  56]],\n",
              "\n",
              "        [[ 45, 101, 126],\n",
              "         [ 45, 105, 129],\n",
              "         [ 44, 107, 131],\n",
              "         ...,\n",
              "         [  3,   4,  10],\n",
              "         [ 44,  59,  71],\n",
              "         [ 33,  68,  85]],\n",
              "\n",
              "        [[ 45, 109, 134],\n",
              "         [ 47, 111, 136],\n",
              "         [ 50, 114, 139],\n",
              "         ...,\n",
              "         [ 40,  77,  98],\n",
              "         [ 77,  89, 107],\n",
              "         [ 23,  68,  86]],\n",
              "\n",
              "        ...,\n",
              "\n",
              "        [[  4,   5,   3],\n",
              "         [  5,   8,   6],\n",
              "         [  8,  13,  11],\n",
              "         ...,\n",
              "         [146, 163, 184],\n",
              "         [140, 154, 177],\n",
              "         [130, 149, 170]],\n",
              "\n",
              "        [[  5,   6,   4],\n",
              "         [  6,  10,   8],\n",
              "         [  5,  12,   9],\n",
              "         ...,\n",
              "         [137, 154, 173],\n",
              "         [133, 148, 168],\n",
              "         [123, 143, 162]],\n",
              "\n",
              "        [[  3,   4,   2],\n",
              "         [  8,  11,   9],\n",
              "         [  8,  16,  13],\n",
              "         ...,\n",
              "         [132, 147, 165],\n",
              "         [129, 147, 161],\n",
              "         [115, 138, 153]]]], dtype=uint8)"
            ]
          },
          "metadata": {},
          "execution_count": 12
        }
      ]
    },
    {
      "cell_type": "code",
      "source": [
        "labels"
      ],
      "metadata": {
        "colab": {
          "base_uri": "https://localhost:8080/"
        },
        "id": "oWqBcTYau8R-",
        "outputId": "05107f53-ce87-432d-89e2-e0dd1ee19ce9"
      },
      "execution_count": 12,
      "outputs": [
        {
          "output_type": "execute_result",
          "data": {
            "text/plain": [
              "array(['dog', 'dog', 'dog', ..., 'cat', 'cat', 'cat'], dtype='<U3')"
            ]
          },
          "metadata": {},
          "execution_count": 12
        }
      ]
    },
    {
      "cell_type": "code",
      "source": [
        "# Encode labels to 0 and 1\n",
        "from sklearn.preprocessing import LabelEncoder\n",
        "label_encoder = LabelEncoder()\n",
        "labels = label_encoder.fit_transform(labels)"
      ],
      "metadata": {
        "id": "T9yB4CaUu2_N"
      },
      "execution_count": 13,
      "outputs": []
    },
    {
      "cell_type": "code",
      "source": [
        "# Split the data into training and testing sets\n",
        "from sklearn.model_selection import train_test_split\n",
        "X_train, X_test, y_train, y_test = train_test_split(images, labels, test_size=0.3, random_state=1)"
      ],
      "metadata": {
        "id": "syS4iHXEu6wP"
      },
      "execution_count": 27,
      "outputs": []
    },
    {
      "cell_type": "code",
      "source": [
        "# Flatten the images\n",
        "X_train_flat = X_train.reshape(len(X_train), -1)\n",
        "X_test_flat = X_test.reshape(len(X_test), -1)"
      ],
      "metadata": {
        "id": "WWacqqUjvL0C"
      },
      "execution_count": 28,
      "outputs": []
    },
    {
      "cell_type": "code",
      "source": [
        "# Normalize the pixel values to [0, 1]\n",
        "X_train_flat = X_train_flat / 255.0\n",
        "X_test_flat = X_test_flat / 255.0"
      ],
      "metadata": {
        "id": "fNU6KFhqvuRv"
      },
      "execution_count": 29,
      "outputs": []
    },
    {
      "cell_type": "markdown",
      "source": [
        "## Feature Scaling"
      ],
      "metadata": {
        "id": "YSQIMCyW_PDG"
      }
    },
    {
      "cell_type": "code",
      "source": [
        "from sklearn.preprocessing import StandardScaler\n",
        "scaler = StandardScaler()\n",
        "X_train_flat = scaler.fit_transform(X_train_flat)\n",
        "X_test_flat = scaler.transform(X_test_flat)"
      ],
      "metadata": {
        "id": "_spIFbK1_Nc_"
      },
      "execution_count": 30,
      "outputs": []
    },
    {
      "cell_type": "code",
      "source": [
        "# Apply PCA-Principal Component Analysis (PCA) to reduce the dimensionality of feature vectors before feeding them into the SVM.\n",
        "from sklearn.decomposition import PCA\n",
        "pca = PCA(n_components=100)  # Adjust n_components as needed\n",
        "X_train_pca = pca.fit_transform(X_train_flat)\n",
        "X_test_pca = pca.transform(X_test_flat)"
      ],
      "metadata": {
        "id": "eA4wEiTs--ao"
      },
      "execution_count": 31,
      "outputs": []
    },
    {
      "cell_type": "code",
      "source": [
        "# Ensure shapes are correct\n",
        "print(\"Shape of X_train_features:\", X_train_pca.shape)\n",
        "print(\"Shape of X_test_features:\", X_test_pca.shape)"
      ],
      "metadata": {
        "colab": {
          "base_uri": "https://localhost:8080/"
        },
        "id": "DTRJxyCfFRmq",
        "outputId": "daadda6b-1a7b-41ce-ac53-044732407c52"
      },
      "execution_count": 32,
      "outputs": [
        {
          "output_type": "stream",
          "name": "stdout",
          "text": [
            "Shape of X_train_features: (17500, 100)\n",
            "Shape of X_test_features: (7500, 100)\n"
          ]
        }
      ]
    },
    {
      "cell_type": "code",
      "source": [
        "# Initialize and train the SVM model\n",
        "from sklearn.svm import SVC\n",
        "from sklearn.metrics import accuracy_score\n",
        "svm = SVC(C=1.0, random_state=1)\n",
        "svm.fit(X_train_pca, y_train)"
      ],
      "metadata": {
        "colab": {
          "base_uri": "https://localhost:8080/",
          "height": 74
        },
        "id": "7iwe6_Euv6mA",
        "outputId": "84da7738-99ce-4169-f91b-8a0869fb9b78"
      },
      "execution_count": 33,
      "outputs": [
        {
          "output_type": "execute_result",
          "data": {
            "text/plain": [
              "SVC(random_state=1)"
            ],
            "text/html": [
              "<style>#sk-container-id-3 {color: black;background-color: white;}#sk-container-id-3 pre{padding: 0;}#sk-container-id-3 div.sk-toggleable {background-color: white;}#sk-container-id-3 label.sk-toggleable__label {cursor: pointer;display: block;width: 100%;margin-bottom: 0;padding: 0.3em;box-sizing: border-box;text-align: center;}#sk-container-id-3 label.sk-toggleable__label-arrow:before {content: \"▸\";float: left;margin-right: 0.25em;color: #696969;}#sk-container-id-3 label.sk-toggleable__label-arrow:hover:before {color: black;}#sk-container-id-3 div.sk-estimator:hover label.sk-toggleable__label-arrow:before {color: black;}#sk-container-id-3 div.sk-toggleable__content {max-height: 0;max-width: 0;overflow: hidden;text-align: left;background-color: #f0f8ff;}#sk-container-id-3 div.sk-toggleable__content pre {margin: 0.2em;color: black;border-radius: 0.25em;background-color: #f0f8ff;}#sk-container-id-3 input.sk-toggleable__control:checked~div.sk-toggleable__content {max-height: 200px;max-width: 100%;overflow: auto;}#sk-container-id-3 input.sk-toggleable__control:checked~label.sk-toggleable__label-arrow:before {content: \"▾\";}#sk-container-id-3 div.sk-estimator input.sk-toggleable__control:checked~label.sk-toggleable__label {background-color: #d4ebff;}#sk-container-id-3 div.sk-label input.sk-toggleable__control:checked~label.sk-toggleable__label {background-color: #d4ebff;}#sk-container-id-3 input.sk-hidden--visually {border: 0;clip: rect(1px 1px 1px 1px);clip: rect(1px, 1px, 1px, 1px);height: 1px;margin: -1px;overflow: hidden;padding: 0;position: absolute;width: 1px;}#sk-container-id-3 div.sk-estimator {font-family: monospace;background-color: #f0f8ff;border: 1px dotted black;border-radius: 0.25em;box-sizing: border-box;margin-bottom: 0.5em;}#sk-container-id-3 div.sk-estimator:hover {background-color: #d4ebff;}#sk-container-id-3 div.sk-parallel-item::after {content: \"\";width: 100%;border-bottom: 1px solid gray;flex-grow: 1;}#sk-container-id-3 div.sk-label:hover label.sk-toggleable__label {background-color: #d4ebff;}#sk-container-id-3 div.sk-serial::before {content: \"\";position: absolute;border-left: 1px solid gray;box-sizing: border-box;top: 0;bottom: 0;left: 50%;z-index: 0;}#sk-container-id-3 div.sk-serial {display: flex;flex-direction: column;align-items: center;background-color: white;padding-right: 0.2em;padding-left: 0.2em;position: relative;}#sk-container-id-3 div.sk-item {position: relative;z-index: 1;}#sk-container-id-3 div.sk-parallel {display: flex;align-items: stretch;justify-content: center;background-color: white;position: relative;}#sk-container-id-3 div.sk-item::before, #sk-container-id-3 div.sk-parallel-item::before {content: \"\";position: absolute;border-left: 1px solid gray;box-sizing: border-box;top: 0;bottom: 0;left: 50%;z-index: -1;}#sk-container-id-3 div.sk-parallel-item {display: flex;flex-direction: column;z-index: 1;position: relative;background-color: white;}#sk-container-id-3 div.sk-parallel-item:first-child::after {align-self: flex-end;width: 50%;}#sk-container-id-3 div.sk-parallel-item:last-child::after {align-self: flex-start;width: 50%;}#sk-container-id-3 div.sk-parallel-item:only-child::after {width: 0;}#sk-container-id-3 div.sk-dashed-wrapped {border: 1px dashed gray;margin: 0 0.4em 0.5em 0.4em;box-sizing: border-box;padding-bottom: 0.4em;background-color: white;}#sk-container-id-3 div.sk-label label {font-family: monospace;font-weight: bold;display: inline-block;line-height: 1.2em;}#sk-container-id-3 div.sk-label-container {text-align: center;}#sk-container-id-3 div.sk-container {/* jupyter's `normalize.less` sets `[hidden] { display: none; }` but bootstrap.min.css set `[hidden] { display: none !important; }` so we also need the `!important` here to be able to override the default hidden behavior on the sphinx rendered scikit-learn.org. See: https://github.com/scikit-learn/scikit-learn/issues/21755 */display: inline-block !important;position: relative;}#sk-container-id-3 div.sk-text-repr-fallback {display: none;}</style><div id=\"sk-container-id-3\" class=\"sk-top-container\"><div class=\"sk-text-repr-fallback\"><pre>SVC(random_state=1)</pre><b>In a Jupyter environment, please rerun this cell to show the HTML representation or trust the notebook. <br />On GitHub, the HTML representation is unable to render, please try loading this page with nbviewer.org.</b></div><div class=\"sk-container\" hidden><div class=\"sk-item\"><div class=\"sk-estimator sk-toggleable\"><input class=\"sk-toggleable__control sk-hidden--visually\" id=\"sk-estimator-id-3\" type=\"checkbox\" checked><label for=\"sk-estimator-id-3\" class=\"sk-toggleable__label sk-toggleable__label-arrow\">SVC</label><div class=\"sk-toggleable__content\"><pre>SVC(random_state=1)</pre></div></div></div></div></div>"
            ]
          },
          "metadata": {},
          "execution_count": 33
        }
      ]
    },
    {
      "cell_type": "code",
      "source": [
        "# Predict on the test set\n",
        "y_pred = svm.predict(X_test_pca)"
      ],
      "metadata": {
        "id": "PYQyMo_XwCkO"
      },
      "execution_count": 37,
      "outputs": []
    },
    {
      "cell_type": "code",
      "source": [
        "# Ensure the prediction shapes are correct\n",
        "print(\"Shape of y_test:\", y_test.shape)\n",
        "print(\"Shape of y_pred:\", y_pred.shape)"
      ],
      "metadata": {
        "colab": {
          "base_uri": "https://localhost:8080/"
        },
        "id": "r2QYvaEsFDdy",
        "outputId": "9b615ec4-0216-4fae-b00c-98dd80ac3674"
      },
      "execution_count": 38,
      "outputs": [
        {
          "output_type": "stream",
          "name": "stdout",
          "text": [
            "Shape of y_test: (7500,)\n",
            "Shape of y_pred: (7500,)\n"
          ]
        }
      ]
    },
    {
      "cell_type": "code",
      "source": [
        "# Calculate accuracy\n",
        "accuracy = accuracy_score(y_test,y_pred)"
      ],
      "metadata": {
        "id": "DytiEeRawEzG"
      },
      "execution_count": 39,
      "outputs": []
    },
    {
      "cell_type": "code",
      "source": [
        "#Checking Accuracy\n",
        "accuracy"
      ],
      "metadata": {
        "colab": {
          "base_uri": "https://localhost:8080/"
        },
        "id": "RM0bjdrCHnj9",
        "outputId": "d1ddd828-e8d5-4bc4-8f78-42a04ff2c6c2"
      },
      "execution_count": 41,
      "outputs": [
        {
          "output_type": "execute_result",
          "data": {
            "text/plain": [
              "0.6762666666666667"
            ]
          },
          "metadata": {},
          "execution_count": 41
        }
      ]
    },
    {
      "cell_type": "code",
      "source": [
        "y_pred"
      ],
      "metadata": {
        "colab": {
          "base_uri": "https://localhost:8080/"
        },
        "id": "M4g49TrrwIXO",
        "outputId": "1a086ffb-a900-491d-fb0d-a002e4177432"
      },
      "execution_count": 40,
      "outputs": [
        {
          "output_type": "execute_result",
          "data": {
            "text/plain": [
              "array([1, 0, 1, ..., 1, 0, 0])"
            ]
          },
          "metadata": {},
          "execution_count": 40
        }
      ]
    },
    {
      "cell_type": "markdown",
      "source": [
        "## Evaluating Model"
      ],
      "metadata": {
        "id": "wb77BemIIZtm"
      }
    },
    {
      "cell_type": "code",
      "source": [
        "X_test[0]"
      ],
      "metadata": {
        "colab": {
          "base_uri": "https://localhost:8080/",
          "height": 105
        },
        "id": "6zuA27lOHlY6",
        "outputId": "5a218192-2999-44b8-eb96-cfeb40e1f4c0"
      },
      "execution_count": 43,
      "outputs": [
        {
          "output_type": "execute_result",
          "data": {
            "text/plain": [
              "array([[[150, 200, 212],\n",
              "        [150, 200, 212],\n",
              "        [153, 204, 216],\n",
              "        ...,\n",
              "        [ 98,  98, 103],\n",
              "        [123, 140, 132],\n",
              "        [ 80,  86,  80]],\n",
              "\n",
              "       [[144, 195, 207],\n",
              "        [148, 198, 210],\n",
              "        [151, 202, 214],\n",
              "        ...,\n",
              "        [106, 106, 108],\n",
              "        [137, 151, 143],\n",
              "        [ 97, 107, 102]],\n",
              "\n",
              "       [[146, 196, 208],\n",
              "        [149, 199, 211],\n",
              "        [150, 201, 214],\n",
              "        ...,\n",
              "        [105, 106, 104],\n",
              "        [137, 143, 134],\n",
              "        [118, 132, 130]],\n",
              "\n",
              "       ...,\n",
              "\n",
              "       [[ 86, 139, 161],\n",
              "        [ 70, 126, 154],\n",
              "        [ 86, 137, 157],\n",
              "        ...,\n",
              "        [ 30,  61,  88],\n",
              "        [ 44,  65,  93],\n",
              "        [ 43,  65,  92]],\n",
              "\n",
              "       [[ 93, 141, 163],\n",
              "        [ 71, 121, 149],\n",
              "        [ 86, 132, 153],\n",
              "        ...,\n",
              "        [ 48,  85, 106],\n",
              "        [ 50,  76,  97],\n",
              "        [ 31,  58,  80]],\n",
              "\n",
              "       [[ 73, 125, 148],\n",
              "        [ 81, 133, 156],\n",
              "        [ 83, 135, 158],\n",
              "        ...,\n",
              "        [ 36,  64,  85],\n",
              "        [ 37,  55,  82],\n",
              "        [ 39,  61,  92]]], dtype=uint8)"
            ],
            "text/html": [
              "<style>\n",
              "      .ndarray_repr .ndarray_raw_data {\n",
              "        display: none;\n",
              "      }\n",
              "      .ndarray_repr.show_array .ndarray_raw_data {\n",
              "        display: block;\n",
              "      }\n",
              "      .ndarray_repr.show_array .ndarray_image_preview {\n",
              "        display: none;\n",
              "      }\n",
              "      </style>\n",
              "      <div id=\"id-bbb4bc79-20eb-4b79-a81f-6bf0d2db1e7c\" class=\"ndarray_repr\"><pre>ndarray (64, 64, 3) <button style=\"padding: 0 2px;\">show data</button></pre><img src=\"data:image/png;base64,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\" class=\"ndarray_image_preview\" /><pre class=\"ndarray_raw_data\">array([[[150, 200, 212],\n",
              "        [150, 200, 212],\n",
              "        [153, 204, 216],\n",
              "        ...,\n",
              "        [ 98,  98, 103],\n",
              "        [123, 140, 132],\n",
              "        [ 80,  86,  80]],\n",
              "\n",
              "       [[144, 195, 207],\n",
              "        [148, 198, 210],\n",
              "        [151, 202, 214],\n",
              "        ...,\n",
              "        [106, 106, 108],\n",
              "        [137, 151, 143],\n",
              "        [ 97, 107, 102]],\n",
              "\n",
              "       [[146, 196, 208],\n",
              "        [149, 199, 211],\n",
              "        [150, 201, 214],\n",
              "        ...,\n",
              "        [105, 106, 104],\n",
              "        [137, 143, 134],\n",
              "        [118, 132, 130]],\n",
              "\n",
              "       ...,\n",
              "\n",
              "       [[ 86, 139, 161],\n",
              "        [ 70, 126, 154],\n",
              "        [ 86, 137, 157],\n",
              "        ...,\n",
              "        [ 30,  61,  88],\n",
              "        [ 44,  65,  93],\n",
              "        [ 43,  65,  92]],\n",
              "\n",
              "       [[ 93, 141, 163],\n",
              "        [ 71, 121, 149],\n",
              "        [ 86, 132, 153],\n",
              "        ...,\n",
              "        [ 48,  85, 106],\n",
              "        [ 50,  76,  97],\n",
              "        [ 31,  58,  80]],\n",
              "\n",
              "       [[ 73, 125, 148],\n",
              "        [ 81, 133, 156],\n",
              "        [ 83, 135, 158],\n",
              "        ...,\n",
              "        [ 36,  64,  85],\n",
              "        [ 37,  55,  82],\n",
              "        [ 39,  61,  92]]], dtype=uint8)</pre></div><script>\n",
              "      (() => {\n",
              "      const titles = ['show data', 'hide data'];\n",
              "      let index = 0\n",
              "      document.querySelector('#id-bbb4bc79-20eb-4b79-a81f-6bf0d2db1e7c button').onclick = (e) => {\n",
              "        document.querySelector('#id-bbb4bc79-20eb-4b79-a81f-6bf0d2db1e7c').classList.toggle('show_array');\n",
              "        index = (++index) % 2;\n",
              "        document.querySelector('#id-bbb4bc79-20eb-4b79-a81f-6bf0d2db1e7c button').textContent = titles[index];\n",
              "        e.preventDefault();\n",
              "        e.stopPropagation();\n",
              "      }\n",
              "      })();\n",
              "    </script>"
            ]
          },
          "metadata": {},
          "execution_count": 43
        }
      ]
    },
    {
      "cell_type": "code",
      "source": [
        "#Actual\n",
        "y_test[0]"
      ],
      "metadata": {
        "colab": {
          "base_uri": "https://localhost:8080/"
        },
        "id": "zfqxoS3OHumA",
        "outputId": "559656cd-abd6-4437-ca1e-207bd3134a1a"
      },
      "execution_count": 45,
      "outputs": [
        {
          "output_type": "execute_result",
          "data": {
            "text/plain": [
              "1"
            ]
          },
          "metadata": {},
          "execution_count": 45
        }
      ]
    },
    {
      "cell_type": "code",
      "source": [
        "#Predicted\n",
        "y_pred[0]"
      ],
      "metadata": {
        "colab": {
          "base_uri": "https://localhost:8080/"
        },
        "id": "lnExhsZ5H2Ds",
        "outputId": "f4ac9aad-0b1c-4444-a6cd-3a945443476f"
      },
      "execution_count": 46,
      "outputs": [
        {
          "output_type": "execute_result",
          "data": {
            "text/plain": [
              "1"
            ]
          },
          "metadata": {},
          "execution_count": 46
        }
      ]
    },
    {
      "cell_type": "markdown",
      "source": [
        "## The model is predicting accurately."
      ],
      "metadata": {
        "id": "4UKdfAi_IP5b"
      }
    },
    {
      "cell_type": "code",
      "source": [],
      "metadata": {
        "id": "UEKpCsiyH9fF"
      },
      "execution_count": null,
      "outputs": []
    }
  ]
}